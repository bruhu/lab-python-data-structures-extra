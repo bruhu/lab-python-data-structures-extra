{
 "cells": [
  {
   "cell_type": "markdown",
   "metadata": {},
   "source": [
    "# Lab | Data Structures "
   ]
  },
  {
   "cell_type": "markdown",
   "metadata": {},
   "source": [
    "## Exercise 1: Working with Lists"
   ]
  },
  {
   "cell_type": "markdown",
   "metadata": {},
   "source": [
    "Imagine you are building a program for a teacher who wants to track the progress of their students throughout the semester. The teacher wants to input the grades of each student one by one, and get a summary of their performance. There are in total 5 students. You are tasked with building the program that will allow the teacher to do this easily.\n",
    "\n",
    "The program will prompt the teacher to enter the grades of each student. Once the teacher has entered all the grades, the program will calculate the total sum of the grades and display it on the screen. Then, the program will create a new list by selecting only the grades of the first, third, and fifth students entered by the teacher, and sort them in ascending order.\n",
    "\n",
    "Finally, the program will print out the new list, along with its length and the number of occurrences of the score 5 in the list. This will give the teacher a good overview of the performance of the selected students, and help them identify any potential issues early on."
   ]
  },
  {
   "cell_type": "markdown",
   "metadata": {},
   "source": [
    "*Hint:*\n",
    "- You can use the input() function to ask the user to enter their information.\n",
    "- Look for list methods to perform the tasks. \n",
    "- Remember, it is possible to get a part of the sequence using:\n",
    "\n",
    "    ```python\n",
    "    sequence[x:y:z]\n",
    "    ```\n",
    "    where x, y, z are integers.\n",
    "\n",
    "    The above returns a new sequence with the following characteristics:\n",
    "\n",
    "    - A sequence with the same type as the original (a slice of a list is a list, a slice of a tuple is a tuple, and a slice of a string is a string).\n",
    "    - A sequence with elements from `sequence [x]` to `sequence [y-1]` (does not include a sequence [y]). By skipping `z` elements each time, it can be omitted if ` z = 1`.\n"
   ]
  },
  {
   "cell_type": "markdown",
   "metadata": {},
   "source": [
    "*Recommended External Resources:*\n",
    "- *[Python Lists](https://www.w3schools.com/python/python_lists.asp)*\n",
    "- *[Python List Methods](https://www.w3schools.com/python/python_ref_list.asp)*\n",
    "- *[Python Built-in Functions](https://docs.python.org/3/library/functions.html)*\n"
   ]
  },
  {
   "cell_type": "markdown",
   "metadata": {},
   "source": [
    "Imagine you are building a program for a teacher who wants to track the progress of their students throughout the semester. The teacher wants to input the grades of each student one by one, and get a summary of their performance. There are in total 5 students. You are tasked with building the program that will allow the teacher to do this easily.\n",
    "\n",
    "The program will prompt the teacher to enter the grades of each student. Once the teacher has entered all the grades, the program will calculate the total sum of the grades and display it on the screen. Then, the program will create a new list by selecting only the grades of the first, third, and fifth students entered by the teacher, and sort them in ascending order.\n",
    "\n",
    "Finally, the program will print out the new list, along with its length and the number of occurrences of the score 5 in the list. This will give the teacher a good overview of the performance of the selected students, and help them identify any potential issues early on."
   ]
  },
  {
   "cell_type": "code",
   "execution_count": 32,
   "metadata": {},
   "outputs": [
    {
     "name": "stdin",
     "output_type": "stream",
     "text": [
      "Please enter the grade of the student:  5\n",
      "Please enter the grade of the student:  5\n",
      "Please enter the grade of the student:  5\n",
      "Please enter the grade of the student:  5\n",
      "Please enter the grade of the student:  5\n"
     ]
    },
    {
     "name": "stdout",
     "output_type": "stream",
     "text": [
      "Grades of each student: [5.0, 5.0, 5.0, 5.0, 5.0]\n",
      "Total sum of the grades: 25.0\n",
      "Grades of the first, third, and fifth students entered by the teacher, sorted in ascending order: [5.0, 5.0, 5.0]\n",
      "Number of occurrences of the score 5 in the list: 3\n"
     ]
    }
   ],
   "source": [
    "grades = []\n",
    "total_s = int\n",
    "selected_grades = []\n",
    "\n",
    "\n",
    "def calculate_grades():\n",
    "    for _ in range(5):\n",
    "        grade = input(\"Please enter the grade of the student: \")\n",
    "        grades.append(float(grade)) \n",
    "\n",
    "    total = sum(grades)\n",
    "\n",
    "    for index in [0, 2, 4]:\n",
    "        if index < len(grades):\n",
    "            selected_grades.append(grades[index])\n",
    "    selected_grades.sort()\n",
    "            \n",
    "    print(\"Grades of each student:\", grades)\n",
    "    print(\"Total sum of the grades:\", total)\n",
    "    print(\"Grades of the first, third, and fifth students entered by the teacher, sorted in ascending order:\", selected_grades)\n",
    "    print(\"Number of occurrences of the score 5 in the list:\", selected_grades.count(5))\n",
    "\n",
    "calculate_grades()        "
   ]
  },
  {
   "cell_type": "markdown",
   "metadata": {},
   "source": [
    "## Exercise 2: Tuples"
   ]
  },
  {
   "cell_type": "markdown",
   "metadata": {},
   "source": [
    "Imagine you're running a fruit stand and want to keep track of your inventory. Write a Python program that does the following:\n",
    "\n",
    "- Initializes a tuple with 5 different types of fruit.\n",
    "- Outputs the first and last elements of the tuple, so you can see the full range of fruits the store offers.\n",
    "- Replaces the second element of the tuple with a new fruit that the store has recently received, and prints the updated tuple so you can see the changes.\n",
    "- Concatenates a new tuple containing 2 additional fruits to the original tuple, so you can add them to the store inventory, and prints the resulting tuple to see the updated inventory.\n",
    "- Splits the resulting tuple into 2 tuples of 3 elements each (the first tuple contains the first 3 elements, and the second tuple contains the last 3 elements), so you can organize the inventory more effectively.\n",
    "- Combines the 2 tuples from the previous step with the original tuple into a new tuple, and prints the resulting tuple and its length, so you can see the final inventory after all the changes."
   ]
  },
  {
   "cell_type": "markdown",
   "metadata": {},
   "source": [
    "*Recommended External Resources: [Python Tuples Examples and Methods](https://www.w3schools.com/python/python_tuples.asp)*\n",
    "\n"
   ]
  },
  {
   "cell_type": "code",
   "execution_count": 60,
   "metadata": {},
   "outputs": [
    {
     "name": "stdout",
     "output_type": "stream",
     "text": [
      "First element of the tuple: apple.\n",
      "Last element of the tuple: plum.\n",
      "\n",
      "Update replacing the second element of the original tuple: ('apple', 'watermelon', 'raspberry', 'mango', 'plum')\n",
      "\n",
      "Update concatenating two more fruits to the original fruit tuple: ('apple', 'watermelon', 'raspberry', 'mango', 'plum', 'fig', 'grape')\n",
      "\n",
      "First half tuple: ('apple', 'watermelon', 'raspberry')\n",
      "Second half tuple: ('mango', 'plum', 'fig', 'grape')\n"
     ]
    }
   ],
   "source": [
    "fruits = (\"apple\", \"banana\", \"raspberry\", \"mango\", \"plum\")\n",
    "print(f\"First element of the tuple: {fruits[0]}.\\nLast element of the tuple: {fruits[-1]}.\")\n",
    "\n",
    "# concatenate a new tuple with 2 additional fruits\n",
    "new_fruit = \"watermelon\"\n",
    "fruits = fruits[:1] + (new_fruit,) + fruits[2:]\n",
    "print(\"\\nUpdate replacing the second element of the original tuple:\", fruits)\n",
    "\n",
    "# concatenate a new tuple with 2 additional fruits\n",
    "additional_fruits = (\"fig\", \"grape\")\n",
    "updated_fruits = fruits + additional_fruits\n",
    "print(\"\\nUpdate concatenating two more fruits to the original fruit tuple:\", updated_fruits)\n",
    "\n",
    "# split the tuple into 2 with 3 elements each\n",
    "first_half = updated_fruits[:3]\n",
    "second_half = updated_fruits[3:]\n",
    "print(f\"\\nFirst half tuple: {first_half}\")\n",
    "print(\"Second half tuple:\", second_half)"
   ]
  },
  {
   "cell_type": "markdown",
   "metadata": {},
   "source": [
    "## Exercise 3: Sets"
   ]
  },
  {
   "cell_type": "markdown",
   "metadata": {},
   "source": [
    "Imagine you are a data analyst working for a literature museum. Your manager has given you two poems to analyze, and she wants you to write a Python program to extract useful information from them.\n",
    "\n",
    "Your program should:\n",
    "\n",
    "- Create two sets, one for each poem, containing all unique words in both poems (ignoring case and punctuation).\n",
    "- Print the number of unique words in each set.\n",
    "- Identify and print the unique words present in the first poem but not in the second one.\n",
    "- Identify and print the unique words present in the second poem but not in the first one.\n",
    "- Identify and print the unique words present in both poems and print it in alphabetical order."
   ]
  },
  {
   "cell_type": "markdown",
   "metadata": {},
   "source": [
    "*Recommended External Resources:*\n",
    "- *[Python Sets](https://www.w3schools.com/python/python_sets.asp)* \n",
    "- *[Python Set Methods](https://www.w3schools.com/python/python_ref_set.asp)*\n",
    "- *[Python String Methods](https://www.w3schools.com/python/python_ref_string.asp)*\n"
   ]
  },
  {
   "cell_type": "code",
   "execution_count": 64,
   "metadata": {},
   "outputs": [],
   "source": [
    "poem = \"\"\"Some say the world will end in fire,\n",
    "Some say in ice.\n",
    "From what I’ve tasted of desire\n",
    "I hold with those who favor fire.\n",
    "But if it had to perish twice,\n",
    "I think I know enough of hate\n",
    "To say that for destruction ice\n",
    "Is also great\n",
    "And would suffice.\"\"\"\n",
    "\n",
    "new_poem = \"\"\"Some say life is but a dream,\n",
    "Some say it's a test.\n",
    "From what I've seen and what I deem,\n",
    "I side with those who see it as a quest.\n",
    "\n",
    "But if it had to end today,\n",
    "I think I know enough of love,\n",
    "To say that though it fades away,\n",
    "It's still what we are made of.\"\"\""
   ]
  },
  {
   "cell_type": "code",
   "execution_count": 130,
   "metadata": {},
   "outputs": [
    {
     "name": "stdout",
     "output_type": "stream",
     "text": [
      "Unique words in the first poem: {'to', 'hate\\nTo', 'Some', 'say', 'for', 'I’ve', 'fire,\\nSome', 'the', 'hold', 'what', 'had', 'who', 'ice.\\nFrom', 'also', 'think', 'know', 'twice,\\nI', 'those', 'of', 'it', 'favor', 'that', 'great\\nAnd', 'tasted', 'enough', 'if', 'perish', 'I', 'in', 'with', 'suffice.', 'destruction', 'ice\\nIs', 'would', 'world', 'fire.\\nBut', 'will', 'end', 'desire\\nI'}\n",
      "Number of unique words in the first poem 39\n",
      "\n",
      "Unique words in the second poem: {'is', 'to', 'Some', 'say', 'what', 'test.\\nFrom', 'had', 'seen', 'who', 'today,\\nI', 'are', 'deem,\\nI', 'and', 'think', 'love,\\nTo', 'know', 'those', 'it', 'of', 'but', 'side', 'quest.\\n\\nBut', 'life', 'that', 'enough', 'if', 'made', 'still', 'I', 'of.', 'we', \"I've\", 'with', 'see', 'though', 'a', \"it's\", 'as', 'fades', 'end', \"away,\\nIt's\", 'dream,\\nSome'}\n",
      "Identify and print the unique words present in both poems and print it in alphabetical order:\n",
      "\n",
      "Some\n",
      "\n",
      "say\n",
      "\n",
      "for\n",
      "\n",
      "fire,\n",
      "Some\n",
      "\n",
      "the\n",
      "\n",
      "what\n",
      "\n",
      "had\n",
      "\n",
      "today,\n",
      "I\n",
      "\n",
      "love,\n",
      "To\n",
      "\n",
      "think\n",
      "\n",
      "know\n",
      "\n",
      "twice,\n",
      "I\n",
      "\n",
      "those\n",
      "\n",
      "favor\n",
      "\n",
      "side\n",
      "\n",
      "great\n",
      "And\n",
      "\n",
      "made\n",
      "\n",
      "of.\n",
      "\n",
      "with\n",
      "\n",
      "I've\n",
      "\n",
      "ice\n",
      "Is\n",
      "\n",
      "would\n",
      "\n",
      "though\n",
      "\n",
      "it's\n",
      "\n",
      "as\n",
      "\n",
      "fire.\n",
      "But\n",
      "\n",
      "we\n",
      "\n",
      "desire\n",
      "I\n",
      "\n",
      "dream,\n",
      "Some\n",
      "\n",
      "is\n",
      "\n",
      "to\n",
      "\n",
      "hate\n",
      "To\n",
      "\n",
      "I’ve\n",
      "\n",
      "hold\n",
      "\n",
      "test.\n",
      "From\n",
      "\n",
      "seen\n",
      "\n",
      "who\n",
      "\n",
      "ice.\n",
      "From\n",
      "\n",
      "are\n",
      "\n",
      "deem,\n",
      "I\n",
      "\n",
      "also\n",
      "\n",
      "and\n",
      "\n",
      "it\n",
      "\n",
      "of\n",
      "\n",
      "but\n",
      "\n",
      "that\n",
      "\n",
      "quest.\n",
      "\n",
      "But\n",
      "\n",
      "tasted\n",
      "\n",
      "life\n",
      "\n",
      "enough\n",
      "\n",
      "if\n",
      "\n",
      "perish\n",
      "\n",
      "still\n",
      "\n",
      "I\n",
      "\n",
      "in\n",
      "\n",
      "suffice.\n",
      "\n",
      "see\n",
      "\n",
      "destruction\n",
      "\n",
      "a\n",
      "\n",
      "fades\n",
      "\n",
      "world\n",
      "\n",
      "will\n",
      "\n",
      "end\n",
      "\n",
      "away,\n",
      "It's\n",
      "\n"
     ]
    }
   ],
   "source": [
    "# Your code here\n",
    "unique_poem = set(poem.split(\" \")) \n",
    "print(f\"Unique words in the first poem: {unique_poem}\")\n",
    "print(f\"Number of unique words in the first poem {len(unique_poem)}\")\n",
    "\n",
    "unique_new_poem = set(new_poem.split(\" \"))\n",
    "print(f\"\\nUnique words in the second poem: {unique_new_poem}\")\n",
    "\n",
    "all_unique_words = unique_poem.union(unique_new_poem)\n",
    "\n",
    "def sort_set():\n",
    "    print(\"Identify and print the unique words present in both poems and print it in alphabetical order:\\n\")\n",
    "    for word in all_unique_words:\n",
    "        print(f\"{word.strip()}\\n\")\n",
    "    \n",
    "sort_set()\n",
    "# print(f\"Identify and print the unique words present in both poems and print it in alphabetical order: {sorted(all_unique_words)}\")"
   ]
  },
  {
   "cell_type": "markdown",
   "metadata": {},
   "source": [
    "## Exercise 4: Dictionaries"
   ]
  },
  {
   "cell_type": "markdown",
   "metadata": {},
   "source": [
    "Consider the following dictionary of students with their scores in different subjects. One of the students, Bob, has complained about his score in Philosophy and, after reviewing it, the teacher has decided to update his score to 100. Write a Python program that updates Bob's score in Philosophy to 100 in the dictionary."
   ]
  },
  {
   "cell_type": "markdown",
   "metadata": {},
   "source": [
    "*Recommended External Resources: [Python Dictionary Examples and Methods](https://www.w3schools.com/python/python_dictionaries.asp)*\n"
   ]
  },
  {
   "cell_type": "code",
   "execution_count": 134,
   "metadata": {},
   "outputs": [],
   "source": [
    "grades = {'Alice': {'Physics': 75, 'Math': 85, 'Chemistry': 60, 'Philosophy': 90}, 'Bob': {'Physics': 75, 'Math': 85, 'Chemistry': 60, 'Philosophy': 90}}"
   ]
  },
  {
   "cell_type": "code",
   "execution_count": 136,
   "metadata": {},
   "outputs": [
    {
     "name": "stdout",
     "output_type": "stream",
     "text": [
      "Updated grades: {'Alice': {'Physics': 75, 'Math': 85, 'Chemistry': 60, 'Philosophy': 90}, 'Bob': {'Physics': 75, 'Math': 85, 'Chemistry': 60, 'Philosophy': 100}}\n"
     ]
    }
   ],
   "source": [
    "grades['Bob']['Philosophy'] = 100\n",
    "print(f\"Updated grades: {grades}\")"
   ]
  },
  {
   "cell_type": "markdown",
   "metadata": {},
   "source": [
    "## Bonus"
   ]
  },
  {
   "cell_type": "markdown",
   "metadata": {},
   "source": [
    "1. Below are the two lists. Write a Python program to convert them into a dictionary in a way that item from list1 is the key and item from list2 is the value."
   ]
  },
  {
   "cell_type": "markdown",
   "metadata": {},
   "source": [
    "*Hint: Use the zip() function. This function takes two or more iterables (like list, dict, string), aggregates them in a tuple, and returns it. Afterwards, you can use a function that turns a tuple into a dictionary.*"
   ]
  },
  {
   "cell_type": "markdown",
   "metadata": {},
   "source": [
    "*Recommended External Resources: [Python Zip Function](https://www.w3schools.com/python/ref_func_zip.asp)*\n"
   ]
  },
  {
   "cell_type": "code",
   "execution_count": 142,
   "metadata": {},
   "outputs": [
    {
     "name": "stdout",
     "output_type": "stream",
     "text": [
      "{'Physics': 75, 'Math': 85, 'Chemistry': 60, 'Philosophy': 90}\n"
     ]
    },
    {
     "ename": "AttributeError",
     "evalue": "'dict' object has no attribute 'min'",
     "output_type": "error",
     "traceback": [
      "\u001b[0;31m---------------------------------------------------------------------------\u001b[0m",
      "\u001b[0;31mAttributeError\u001b[0m                            Traceback (most recent call last)",
      "Cell \u001b[0;32mIn[142], line 6\u001b[0m\n\u001b[1;32m      4\u001b[0m combined_dictionary \u001b[38;5;241m=\u001b[39m \u001b[38;5;28mdict\u001b[39m(\u001b[38;5;28mzip\u001b[39m(keys, values))\n\u001b[1;32m      5\u001b[0m \u001b[38;5;28mprint\u001b[39m(combined_dictionary)\n\u001b[0;32m----> 6\u001b[0m \u001b[38;5;28mprint\u001b[39m(combined_dictionary\u001b[38;5;241m.\u001b[39mmin())\n",
      "\u001b[0;31mAttributeError\u001b[0m: 'dict' object has no attribute 'min'"
     ]
    }
   ],
   "source": [
    "keys = ['Physics', 'Math', 'Chemistry', 'Philosophy']\n",
    "values = [75, 85, 60,90]\n",
    "\n",
    "combined_dictionary = dict(zip(keys, values))\n",
    "print(combined_dictionary)\n",
    "print(combined_dictionary.min())"
   ]
  },
  {
   "cell_type": "markdown",
   "metadata": {},
   "source": [
    "2. Get the subject with the minimum score from the previous dictionary."
   ]
  },
  {
   "cell_type": "markdown",
   "metadata": {},
   "source": [
    "*Hint: Use the built-in function min(). Read about the parameter key.*"
   ]
  },
  {
   "cell_type": "markdown",
   "metadata": {},
   "source": [
    "\n",
    "*Recommended External Resources:*\n",
    "- *[Python Min Function Official Documentation](https://docs.python.org/3.8/library/functions.html#min)*\n",
    "- *[How to use key function in max and min in Python](https://medium.com/analytics-vidhya/how-to-use-key-function-in-max-and-min-in-python-1fdbd661c59c)*"
   ]
  },
  {
   "cell_type": "code",
   "execution_count": null,
   "metadata": {},
   "outputs": [],
   "source": [
    "# Your code here"
   ]
  }
 ],
 "metadata": {
  "kernelspec": {
   "display_name": "Python 3 (ipykernel)",
   "language": "python",
   "name": "python3"
  },
  "language_info": {
   "codemirror_mode": {
    "name": "ipython",
    "version": 3
   },
   "file_extension": ".py",
   "mimetype": "text/x-python",
   "name": "python",
   "nbconvert_exporter": "python",
   "pygments_lexer": "ipython3",
   "version": "3.12.2"
  }
 },
 "nbformat": 4,
 "nbformat_minor": 4
}
